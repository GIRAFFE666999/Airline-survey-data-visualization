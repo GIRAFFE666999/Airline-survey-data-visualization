{
  "nbformat": 4,
  "nbformat_minor": 0,
  "metadata": {
    "colab": {
      "provenance": []
    },
    "kernelspec": {
      "name": "python3",
      "display_name": "Python 3"
    },
    "language_info": {
      "name": "python"
    }
  },
  "cells": [
    {
      "cell_type": "markdown",
      "source": [
        "## **import the data**"
      ],
      "metadata": {
        "id": "M-gXOM8E_C_x"
      }
    },
    {
      "cell_type": "code",
      "source": [
        "from google.colab import drive"
      ],
      "metadata": {
        "id": "pHPLlVOu9ssc"
      },
      "execution_count": 4,
      "outputs": []
    },
    {
      "cell_type": "code",
      "execution_count": 5,
      "metadata": {
        "colab": {
          "base_uri": "https://localhost:8080/",
          "height": 438
        },
        "id": "RCmST_8D7k1G",
        "outputId": "1744d90b-56e8-4f32-fe19-6549120b6d82"
      },
      "outputs": [
        {
          "output_type": "execute_result",
          "data": {
            "text/plain": [
              "   number Sex    Age Rating date Traveled date  Seat comfort  \\\n",
              "0       1   M  35-49   24/8/2018        18-Aug             3   \n",
              "1       2   M  50-64   24/8/2018        18-May             3   \n",
              "2       3   F  35-49   24/8/2018        18-Aug             4   \n",
              "3       4   M  35-49   24/8/2018           NaN             3   \n",
              "4       5   F  50-64   24/8/2018        18-Aug             2   \n",
              "\n",
              "   Customer service  Cleanliness  Food and Beverage  Legroom  \\\n",
              "0                 4            4                  2        1   \n",
              "1                 4            4                  3        3   \n",
              "2                 4            4                  4        4   \n",
              "3                 1            3                  2        3   \n",
              "4                 3            3                  3        3   \n",
              "\n",
              "   In-flight entertainment  Value for money  Check-in and Boarding  \\\n",
              "0                        3                4                      4   \n",
              "1                        3                4                      5   \n",
              "2                        5                4                      4   \n",
              "3                        3                3                      1   \n",
              "4                        3                2                      3   \n",
              "\n",
              "            Area        Cabin                          Route  \n",
              "0  International      Economy                  Miami - Quito  \n",
              "1       Domestic      Economy  Colorado Springs - Fort Myers  \n",
              "2         Mexico      Economy                Dallas - Cancun  \n",
              "3         Mexico  First Class               Seattle - Cancun  \n",
              "4       Domestic      Economy           Baltimore - Sarasota  "
            ],
            "text/html": [
              "\n",
              "  <div id=\"df-47645673-759e-4411-920b-2522502af036\">\n",
              "    <div class=\"colab-df-container\">\n",
              "      <div>\n",
              "<style scoped>\n",
              "    .dataframe tbody tr th:only-of-type {\n",
              "        vertical-align: middle;\n",
              "    }\n",
              "\n",
              "    .dataframe tbody tr th {\n",
              "        vertical-align: top;\n",
              "    }\n",
              "\n",
              "    .dataframe thead th {\n",
              "        text-align: right;\n",
              "    }\n",
              "</style>\n",
              "<table border=\"1\" class=\"dataframe\">\n",
              "  <thead>\n",
              "    <tr style=\"text-align: right;\">\n",
              "      <th></th>\n",
              "      <th>number</th>\n",
              "      <th>Sex</th>\n",
              "      <th>Age</th>\n",
              "      <th>Rating date</th>\n",
              "      <th>Traveled date</th>\n",
              "      <th>Seat comfort</th>\n",
              "      <th>Customer service</th>\n",
              "      <th>Cleanliness</th>\n",
              "      <th>Food and Beverage</th>\n",
              "      <th>Legroom</th>\n",
              "      <th>In-flight entertainment</th>\n",
              "      <th>Value for money</th>\n",
              "      <th>Check-in and Boarding</th>\n",
              "      <th>Area</th>\n",
              "      <th>Cabin</th>\n",
              "      <th>Route</th>\n",
              "    </tr>\n",
              "  </thead>\n",
              "  <tbody>\n",
              "    <tr>\n",
              "      <th>0</th>\n",
              "      <td>1</td>\n",
              "      <td>M</td>\n",
              "      <td>35-49</td>\n",
              "      <td>24/8/2018</td>\n",
              "      <td>18-Aug</td>\n",
              "      <td>3</td>\n",
              "      <td>4</td>\n",
              "      <td>4</td>\n",
              "      <td>2</td>\n",
              "      <td>1</td>\n",
              "      <td>3</td>\n",
              "      <td>4</td>\n",
              "      <td>4</td>\n",
              "      <td>International</td>\n",
              "      <td>Economy</td>\n",
              "      <td>Miami - Quito</td>\n",
              "    </tr>\n",
              "    <tr>\n",
              "      <th>1</th>\n",
              "      <td>2</td>\n",
              "      <td>M</td>\n",
              "      <td>50-64</td>\n",
              "      <td>24/8/2018</td>\n",
              "      <td>18-May</td>\n",
              "      <td>3</td>\n",
              "      <td>4</td>\n",
              "      <td>4</td>\n",
              "      <td>3</td>\n",
              "      <td>3</td>\n",
              "      <td>3</td>\n",
              "      <td>4</td>\n",
              "      <td>5</td>\n",
              "      <td>Domestic</td>\n",
              "      <td>Economy</td>\n",
              "      <td>Colorado Springs - Fort Myers</td>\n",
              "    </tr>\n",
              "    <tr>\n",
              "      <th>2</th>\n",
              "      <td>3</td>\n",
              "      <td>F</td>\n",
              "      <td>35-49</td>\n",
              "      <td>24/8/2018</td>\n",
              "      <td>18-Aug</td>\n",
              "      <td>4</td>\n",
              "      <td>4</td>\n",
              "      <td>4</td>\n",
              "      <td>4</td>\n",
              "      <td>4</td>\n",
              "      <td>5</td>\n",
              "      <td>4</td>\n",
              "      <td>4</td>\n",
              "      <td>Mexico</td>\n",
              "      <td>Economy</td>\n",
              "      <td>Dallas - Cancun</td>\n",
              "    </tr>\n",
              "    <tr>\n",
              "      <th>3</th>\n",
              "      <td>4</td>\n",
              "      <td>M</td>\n",
              "      <td>35-49</td>\n",
              "      <td>24/8/2018</td>\n",
              "      <td>NaN</td>\n",
              "      <td>3</td>\n",
              "      <td>1</td>\n",
              "      <td>3</td>\n",
              "      <td>2</td>\n",
              "      <td>3</td>\n",
              "      <td>3</td>\n",
              "      <td>3</td>\n",
              "      <td>1</td>\n",
              "      <td>Mexico</td>\n",
              "      <td>First Class</td>\n",
              "      <td>Seattle - Cancun</td>\n",
              "    </tr>\n",
              "    <tr>\n",
              "      <th>4</th>\n",
              "      <td>5</td>\n",
              "      <td>F</td>\n",
              "      <td>50-64</td>\n",
              "      <td>24/8/2018</td>\n",
              "      <td>18-Aug</td>\n",
              "      <td>2</td>\n",
              "      <td>3</td>\n",
              "      <td>3</td>\n",
              "      <td>3</td>\n",
              "      <td>3</td>\n",
              "      <td>3</td>\n",
              "      <td>2</td>\n",
              "      <td>3</td>\n",
              "      <td>Domestic</td>\n",
              "      <td>Economy</td>\n",
              "      <td>Baltimore - Sarasota</td>\n",
              "    </tr>\n",
              "  </tbody>\n",
              "</table>\n",
              "</div>\n",
              "      <button class=\"colab-df-convert\" onclick=\"convertToInteractive('df-47645673-759e-4411-920b-2522502af036')\"\n",
              "              title=\"Convert this dataframe to an interactive table.\"\n",
              "              style=\"display:none;\">\n",
              "        \n",
              "  <svg xmlns=\"http://www.w3.org/2000/svg\" height=\"24px\"viewBox=\"0 0 24 24\"\n",
              "       width=\"24px\">\n",
              "    <path d=\"M0 0h24v24H0V0z\" fill=\"none\"/>\n",
              "    <path d=\"M18.56 5.44l.94 2.06.94-2.06 2.06-.94-2.06-.94-.94-2.06-.94 2.06-2.06.94zm-11 1L8.5 8.5l.94-2.06 2.06-.94-2.06-.94L8.5 2.5l-.94 2.06-2.06.94zm10 10l.94 2.06.94-2.06 2.06-.94-2.06-.94-.94-2.06-.94 2.06-2.06.94z\"/><path d=\"M17.41 7.96l-1.37-1.37c-.4-.4-.92-.59-1.43-.59-.52 0-1.04.2-1.43.59L10.3 9.45l-7.72 7.72c-.78.78-.78 2.05 0 2.83L4 21.41c.39.39.9.59 1.41.59.51 0 1.02-.2 1.41-.59l7.78-7.78 2.81-2.81c.8-.78.8-2.07 0-2.86zM5.41 20L4 18.59l7.72-7.72 1.47 1.35L5.41 20z\"/>\n",
              "  </svg>\n",
              "      </button>\n",
              "      \n",
              "  <style>\n",
              "    .colab-df-container {\n",
              "      display:flex;\n",
              "      flex-wrap:wrap;\n",
              "      gap: 12px;\n",
              "    }\n",
              "\n",
              "    .colab-df-convert {\n",
              "      background-color: #E8F0FE;\n",
              "      border: none;\n",
              "      border-radius: 50%;\n",
              "      cursor: pointer;\n",
              "      display: none;\n",
              "      fill: #1967D2;\n",
              "      height: 32px;\n",
              "      padding: 0 0 0 0;\n",
              "      width: 32px;\n",
              "    }\n",
              "\n",
              "    .colab-df-convert:hover {\n",
              "      background-color: #E2EBFA;\n",
              "      box-shadow: 0px 1px 2px rgba(60, 64, 67, 0.3), 0px 1px 3px 1px rgba(60, 64, 67, 0.15);\n",
              "      fill: #174EA6;\n",
              "    }\n",
              "\n",
              "    [theme=dark] .colab-df-convert {\n",
              "      background-color: #3B4455;\n",
              "      fill: #D2E3FC;\n",
              "    }\n",
              "\n",
              "    [theme=dark] .colab-df-convert:hover {\n",
              "      background-color: #434B5C;\n",
              "      box-shadow: 0px 1px 3px 1px rgba(0, 0, 0, 0.15);\n",
              "      filter: drop-shadow(0px 1px 2px rgba(0, 0, 0, 0.3));\n",
              "      fill: #FFFFFF;\n",
              "    }\n",
              "  </style>\n",
              "\n",
              "      <script>\n",
              "        const buttonEl =\n",
              "          document.querySelector('#df-47645673-759e-4411-920b-2522502af036 button.colab-df-convert');\n",
              "        buttonEl.style.display =\n",
              "          google.colab.kernel.accessAllowed ? 'block' : 'none';\n",
              "\n",
              "        async function convertToInteractive(key) {\n",
              "          const element = document.querySelector('#df-47645673-759e-4411-920b-2522502af036');\n",
              "          const dataTable =\n",
              "            await google.colab.kernel.invokeFunction('convertToInteractive',\n",
              "                                                     [key], {});\n",
              "          if (!dataTable) return;\n",
              "\n",
              "          const docLinkHtml = 'Like what you see? Visit the ' +\n",
              "            '<a target=\"_blank\" href=https://colab.research.google.com/notebooks/data_table.ipynb>data table notebook</a>'\n",
              "            + ' to learn more about interactive tables.';\n",
              "          element.innerHTML = '';\n",
              "          dataTable['output_type'] = 'display_data';\n",
              "          await google.colab.output.renderOutput(dataTable, element);\n",
              "          const docLink = document.createElement('div');\n",
              "          docLink.innerHTML = docLinkHtml;\n",
              "          element.appendChild(docLink);\n",
              "        }\n",
              "      </script>\n",
              "    </div>\n",
              "  </div>\n",
              "  "
            ]
          },
          "metadata": {},
          "execution_count": 5
        }
      ],
      "source": [
        "#import libraries\n",
        "import matplotlib.pyplot as plt\n",
        "import numpy as np\n",
        "import pandas as pd\n",
        "import seaborn as sns\n",
        "\n",
        "#loda data\n",
        "airlines = pd.read_csv('/content/drive/MyDrive/airlinesdata.csv')\n",
        "#the structure of the row dataset\n",
        "airlines.head()"
      ]
    },
    {
      "cell_type": "markdown",
      "source": [
        "## **the structure of the data**"
      ],
      "metadata": {
        "id": "Antrslac_LnT"
      }
    },
    {
      "cell_type": "code",
      "source": [
        "#the data types involved\n",
        "airlines.info()"
      ],
      "metadata": {
        "colab": {
          "base_uri": "https://localhost:8080/"
        },
        "id": "h9Pple_BUhxj",
        "outputId": "f638b646-a985-4063-ebed-d9835c051fb0"
      },
      "execution_count": 6,
      "outputs": [
        {
          "output_type": "stream",
          "name": "stdout",
          "text": [
            "<class 'pandas.core.frame.DataFrame'>\n",
            "RangeIndex: 1871 entries, 0 to 1870\n",
            "Data columns (total 16 columns):\n",
            " #   Column                   Non-Null Count  Dtype \n",
            "---  ------                   --------------  ----- \n",
            " 0   number                   1871 non-null   int64 \n",
            " 1   Sex                      1871 non-null   object\n",
            " 2   Age                      1871 non-null   object\n",
            " 3   Rating date              1871 non-null   object\n",
            " 4   Traveled date            1681 non-null   object\n",
            " 5   Seat comfort             1871 non-null   int64 \n",
            " 6   Customer service         1871 non-null   int64 \n",
            " 7   Cleanliness              1871 non-null   int64 \n",
            " 8   Food and Beverage        1871 non-null   int64 \n",
            " 9   Legroom                  1871 non-null   int64 \n",
            " 10  In-flight entertainment  1871 non-null   int64 \n",
            " 11  Value for money          1871 non-null   int64 \n",
            " 12  Check-in and Boarding    1871 non-null   int64 \n",
            " 13  Area                     1871 non-null   object\n",
            " 14  Cabin                    1871 non-null   object\n",
            " 15  Route                    1871 non-null   object\n",
            "dtypes: int64(9), object(7)\n",
            "memory usage: 234.0+ KB\n"
          ]
        }
      ]
    },
    {
      "cell_type": "markdown",
      "source": [
        "## **data cleaning**"
      ],
      "metadata": {
        "id": "gZU-JLl3_Wp5"
      }
    },
    {
      "cell_type": "code",
      "source": [
        "#check are there any null value in the dataframe\n",
        "pd.isnull(airlines).sum()"
      ],
      "metadata": {
        "colab": {
          "base_uri": "https://localhost:8080/"
        },
        "id": "j0XD0X8m5GQW",
        "outputId": "71ab8614-0eb9-49b0-d6fa-c0ffb25a383d"
      },
      "execution_count": 7,
      "outputs": [
        {
          "output_type": "execute_result",
          "data": {
            "text/plain": [
              "number                       0\n",
              "Sex                          0\n",
              "Age                          0\n",
              "Rating date                  0\n",
              "Traveled date              190\n",
              "Seat comfort                 0\n",
              "Customer service             0\n",
              "Cleanliness                  0\n",
              "Food and Beverage            0\n",
              "Legroom                      0\n",
              "In-flight entertainment      0\n",
              "Value for money              0\n",
              "Check-in and Boarding        0\n",
              "Area                         0\n",
              "Cabin                        0\n",
              "Route                        0\n",
              "dtype: int64"
            ]
          },
          "metadata": {},
          "execution_count": 7
        }
      ]
    },
    {
      "cell_type": "code",
      "source": [
        "#because we don't need the value of date to do some analyze, so we just select the useful data\n",
        "airlines_2 = airlines.drop(['Rating date','Traveled date'],axis = 1)"
      ],
      "metadata": {
        "id": "Nl9YaVyv2veW"
      },
      "execution_count": 8,
      "outputs": []
    },
    {
      "cell_type": "code",
      "source": [
        "airlines_2.info()"
      ],
      "metadata": {
        "colab": {
          "base_uri": "https://localhost:8080/"
        },
        "id": "6bjvqC1EXWbE",
        "outputId": "e180f7df-aac9-45f6-e291-1aaaf8fb3c15"
      },
      "execution_count": 9,
      "outputs": [
        {
          "output_type": "stream",
          "name": "stdout",
          "text": [
            "<class 'pandas.core.frame.DataFrame'>\n",
            "RangeIndex: 1871 entries, 0 to 1870\n",
            "Data columns (total 14 columns):\n",
            " #   Column                   Non-Null Count  Dtype \n",
            "---  ------                   --------------  ----- \n",
            " 0   number                   1871 non-null   int64 \n",
            " 1   Sex                      1871 non-null   object\n",
            " 2   Age                      1871 non-null   object\n",
            " 3   Seat comfort             1871 non-null   int64 \n",
            " 4   Customer service         1871 non-null   int64 \n",
            " 5   Cleanliness              1871 non-null   int64 \n",
            " 6   Food and Beverage        1871 non-null   int64 \n",
            " 7   Legroom                  1871 non-null   int64 \n",
            " 8   In-flight entertainment  1871 non-null   int64 \n",
            " 9   Value for money          1871 non-null   int64 \n",
            " 10  Check-in and Boarding    1871 non-null   int64 \n",
            " 11  Area                     1871 non-null   object\n",
            " 12  Cabin                    1871 non-null   object\n",
            " 13  Route                    1871 non-null   object\n",
            "dtypes: int64(9), object(5)\n",
            "memory usage: 204.8+ KB\n"
          ]
        }
      ]
    },
    {
      "cell_type": "markdown",
      "source": [
        "## **Quantitative research**"
      ],
      "metadata": {
        "id": "e7nPiZbq_bKR"
      }
    },
    {
      "cell_type": "code",
      "source": [
        "#check the frequency of male and female\n",
        "airlines_2.Sex.value_counts()"
      ],
      "metadata": {
        "id": "q92SBW6DeaNQ",
        "colab": {
          "base_uri": "https://localhost:8080/"
        },
        "outputId": "4256e4e2-16b3-4fb4-c618-a83e94254f58"
      },
      "execution_count": 10,
      "outputs": [
        {
          "output_type": "execute_result",
          "data": {
            "text/plain": [
              "M    1237\n",
              "F     634\n",
              "Name: Sex, dtype: int64"
            ]
          },
          "metadata": {},
          "execution_count": 10
        }
      ]
    },
    {
      "cell_type": "code",
      "source": [
        "#check the frequency of different ages\n",
        "airlines_2.Age.value_counts()"
      ],
      "metadata": {
        "colab": {
          "base_uri": "https://localhost:8080/"
        },
        "id": "jNga-aZU87_M",
        "outputId": "6650bbd1-ee9c-4c49-c0bd-b4cf27ab45f9"
      },
      "execution_count": 11,
      "outputs": [
        {
          "output_type": "execute_result",
          "data": {
            "text/plain": [
              "50-64    911\n",
              "65+      426\n",
              "35-49    415\n",
              "25-34    105\n",
              "18-24     12\n",
              "13-17      2\n",
              "Name: Age, dtype: int64"
            ]
          },
          "metadata": {},
          "execution_count": 11
        }
      ]
    },
    {
      "cell_type": "code",
      "source": [
        "#check the frequency of airline area\n",
        "airlines_2.Area.value_counts()"
      ],
      "metadata": {
        "colab": {
          "base_uri": "https://localhost:8080/"
        },
        "id": "0SXD8Viy9B4N",
        "outputId": "f5cafc14-6cab-4142-d888-411fa44a12dc"
      },
      "execution_count": 12,
      "outputs": [
        {
          "output_type": "execute_result",
          "data": {
            "text/plain": [
              "Domestic         1064\n",
              "International     533\n",
              "Caribbean         121\n",
              "Mexico             78\n",
              "USA                56\n",
              "Canada             19\n",
              "Name: Area, dtype: int64"
            ]
          },
          "metadata": {},
          "execution_count": 12
        }
      ]
    },
    {
      "cell_type": "code",
      "source": [
        "#check the frequency of cabin\n",
        "airlines_2.Cabin.value_counts()"
      ],
      "metadata": {
        "colab": {
          "base_uri": "https://localhost:8080/"
        },
        "id": "I1aJ4F3w9PLy",
        "outputId": "72d11212-7eda-4e0c-8119-30bda73d4c8d"
      },
      "execution_count": 13,
      "outputs": [
        {
          "output_type": "execute_result",
          "data": {
            "text/plain": [
              "Economy           1428\n",
              "First Class        237\n",
              "Business Class     206\n",
              "Name: Cabin, dtype: int64"
            ]
          },
          "metadata": {},
          "execution_count": 13
        }
      ]
    },
    {
      "cell_type": "code",
      "source": [
        "#numerical variables\n",
        "airlines_2.describe()"
      ],
      "metadata": {
        "colab": {
          "base_uri": "https://localhost:8080/",
          "height": 358
        },
        "id": "EUygYyUfWnQz",
        "outputId": "ac769653-4022-4a86-9909-3249b4159ae9"
      },
      "execution_count": 14,
      "outputs": [
        {
          "output_type": "execute_result",
          "data": {
            "text/plain": [
              "            number  Seat comfort  Customer service  Cleanliness  \\\n",
              "count  1871.000000   1871.000000       1871.000000  1871.000000   \n",
              "mean    936.000000      3.395510          3.619455     3.795831   \n",
              "std     540.255495      1.098205          1.306719     1.013283   \n",
              "min       1.000000      1.000000          1.000000     1.000000   \n",
              "25%     468.500000      3.000000          3.000000     3.000000   \n",
              "50%     936.000000      3.000000          4.000000     4.000000   \n",
              "75%    1403.500000      4.000000          5.000000     5.000000   \n",
              "max    1871.000000      5.000000          5.000000     5.000000   \n",
              "\n",
              "       Food and Beverage      Legroom  In-flight entertainment  \\\n",
              "count        1871.000000  1871.000000              1871.000000   \n",
              "mean            3.138429     3.424372                 3.197755   \n",
              "std             1.157895     1.137839                 1.324155   \n",
              "min             1.000000     1.000000                 1.000000   \n",
              "25%             3.000000     3.000000                 2.000000   \n",
              "50%             3.000000     3.000000                 3.000000   \n",
              "75%             4.000000     4.000000                 4.000000   \n",
              "max             5.000000     5.000000                 5.000000   \n",
              "\n",
              "       Value for money  Check-in and Boarding  \n",
              "count      1871.000000            1871.000000  \n",
              "mean          3.291823               3.682523  \n",
              "std           1.169731               1.254600  \n",
              "min           1.000000               1.000000  \n",
              "25%           3.000000               3.000000  \n",
              "50%           3.000000               4.000000  \n",
              "75%           4.000000               5.000000  \n",
              "max           5.000000               5.000000  "
            ],
            "text/html": [
              "\n",
              "  <div id=\"df-60d771e3-f14c-425c-8949-13b28b3cc777\">\n",
              "    <div class=\"colab-df-container\">\n",
              "      <div>\n",
              "<style scoped>\n",
              "    .dataframe tbody tr th:only-of-type {\n",
              "        vertical-align: middle;\n",
              "    }\n",
              "\n",
              "    .dataframe tbody tr th {\n",
              "        vertical-align: top;\n",
              "    }\n",
              "\n",
              "    .dataframe thead th {\n",
              "        text-align: right;\n",
              "    }\n",
              "</style>\n",
              "<table border=\"1\" class=\"dataframe\">\n",
              "  <thead>\n",
              "    <tr style=\"text-align: right;\">\n",
              "      <th></th>\n",
              "      <th>number</th>\n",
              "      <th>Seat comfort</th>\n",
              "      <th>Customer service</th>\n",
              "      <th>Cleanliness</th>\n",
              "      <th>Food and Beverage</th>\n",
              "      <th>Legroom</th>\n",
              "      <th>In-flight entertainment</th>\n",
              "      <th>Value for money</th>\n",
              "      <th>Check-in and Boarding</th>\n",
              "    </tr>\n",
              "  </thead>\n",
              "  <tbody>\n",
              "    <tr>\n",
              "      <th>count</th>\n",
              "      <td>1871.000000</td>\n",
              "      <td>1871.000000</td>\n",
              "      <td>1871.000000</td>\n",
              "      <td>1871.000000</td>\n",
              "      <td>1871.000000</td>\n",
              "      <td>1871.000000</td>\n",
              "      <td>1871.000000</td>\n",
              "      <td>1871.000000</td>\n",
              "      <td>1871.000000</td>\n",
              "    </tr>\n",
              "    <tr>\n",
              "      <th>mean</th>\n",
              "      <td>936.000000</td>\n",
              "      <td>3.395510</td>\n",
              "      <td>3.619455</td>\n",
              "      <td>3.795831</td>\n",
              "      <td>3.138429</td>\n",
              "      <td>3.424372</td>\n",
              "      <td>3.197755</td>\n",
              "      <td>3.291823</td>\n",
              "      <td>3.682523</td>\n",
              "    </tr>\n",
              "    <tr>\n",
              "      <th>std</th>\n",
              "      <td>540.255495</td>\n",
              "      <td>1.098205</td>\n",
              "      <td>1.306719</td>\n",
              "      <td>1.013283</td>\n",
              "      <td>1.157895</td>\n",
              "      <td>1.137839</td>\n",
              "      <td>1.324155</td>\n",
              "      <td>1.169731</td>\n",
              "      <td>1.254600</td>\n",
              "    </tr>\n",
              "    <tr>\n",
              "      <th>min</th>\n",
              "      <td>1.000000</td>\n",
              "      <td>1.000000</td>\n",
              "      <td>1.000000</td>\n",
              "      <td>1.000000</td>\n",
              "      <td>1.000000</td>\n",
              "      <td>1.000000</td>\n",
              "      <td>1.000000</td>\n",
              "      <td>1.000000</td>\n",
              "      <td>1.000000</td>\n",
              "    </tr>\n",
              "    <tr>\n",
              "      <th>25%</th>\n",
              "      <td>468.500000</td>\n",
              "      <td>3.000000</td>\n",
              "      <td>3.000000</td>\n",
              "      <td>3.000000</td>\n",
              "      <td>3.000000</td>\n",
              "      <td>3.000000</td>\n",
              "      <td>2.000000</td>\n",
              "      <td>3.000000</td>\n",
              "      <td>3.000000</td>\n",
              "    </tr>\n",
              "    <tr>\n",
              "      <th>50%</th>\n",
              "      <td>936.000000</td>\n",
              "      <td>3.000000</td>\n",
              "      <td>4.000000</td>\n",
              "      <td>4.000000</td>\n",
              "      <td>3.000000</td>\n",
              "      <td>3.000000</td>\n",
              "      <td>3.000000</td>\n",
              "      <td>3.000000</td>\n",
              "      <td>4.000000</td>\n",
              "    </tr>\n",
              "    <tr>\n",
              "      <th>75%</th>\n",
              "      <td>1403.500000</td>\n",
              "      <td>4.000000</td>\n",
              "      <td>5.000000</td>\n",
              "      <td>5.000000</td>\n",
              "      <td>4.000000</td>\n",
              "      <td>4.000000</td>\n",
              "      <td>4.000000</td>\n",
              "      <td>4.000000</td>\n",
              "      <td>5.000000</td>\n",
              "    </tr>\n",
              "    <tr>\n",
              "      <th>max</th>\n",
              "      <td>1871.000000</td>\n",
              "      <td>5.000000</td>\n",
              "      <td>5.000000</td>\n",
              "      <td>5.000000</td>\n",
              "      <td>5.000000</td>\n",
              "      <td>5.000000</td>\n",
              "      <td>5.000000</td>\n",
              "      <td>5.000000</td>\n",
              "      <td>5.000000</td>\n",
              "    </tr>\n",
              "  </tbody>\n",
              "</table>\n",
              "</div>\n",
              "      <button class=\"colab-df-convert\" onclick=\"convertToInteractive('df-60d771e3-f14c-425c-8949-13b28b3cc777')\"\n",
              "              title=\"Convert this dataframe to an interactive table.\"\n",
              "              style=\"display:none;\">\n",
              "        \n",
              "  <svg xmlns=\"http://www.w3.org/2000/svg\" height=\"24px\"viewBox=\"0 0 24 24\"\n",
              "       width=\"24px\">\n",
              "    <path d=\"M0 0h24v24H0V0z\" fill=\"none\"/>\n",
              "    <path d=\"M18.56 5.44l.94 2.06.94-2.06 2.06-.94-2.06-.94-.94-2.06-.94 2.06-2.06.94zm-11 1L8.5 8.5l.94-2.06 2.06-.94-2.06-.94L8.5 2.5l-.94 2.06-2.06.94zm10 10l.94 2.06.94-2.06 2.06-.94-2.06-.94-.94-2.06-.94 2.06-2.06.94z\"/><path d=\"M17.41 7.96l-1.37-1.37c-.4-.4-.92-.59-1.43-.59-.52 0-1.04.2-1.43.59L10.3 9.45l-7.72 7.72c-.78.78-.78 2.05 0 2.83L4 21.41c.39.39.9.59 1.41.59.51 0 1.02-.2 1.41-.59l7.78-7.78 2.81-2.81c.8-.78.8-2.07 0-2.86zM5.41 20L4 18.59l7.72-7.72 1.47 1.35L5.41 20z\"/>\n",
              "  </svg>\n",
              "      </button>\n",
              "      \n",
              "  <style>\n",
              "    .colab-df-container {\n",
              "      display:flex;\n",
              "      flex-wrap:wrap;\n",
              "      gap: 12px;\n",
              "    }\n",
              "\n",
              "    .colab-df-convert {\n",
              "      background-color: #E8F0FE;\n",
              "      border: none;\n",
              "      border-radius: 50%;\n",
              "      cursor: pointer;\n",
              "      display: none;\n",
              "      fill: #1967D2;\n",
              "      height: 32px;\n",
              "      padding: 0 0 0 0;\n",
              "      width: 32px;\n",
              "    }\n",
              "\n",
              "    .colab-df-convert:hover {\n",
              "      background-color: #E2EBFA;\n",
              "      box-shadow: 0px 1px 2px rgba(60, 64, 67, 0.3), 0px 1px 3px 1px rgba(60, 64, 67, 0.15);\n",
              "      fill: #174EA6;\n",
              "    }\n",
              "\n",
              "    [theme=dark] .colab-df-convert {\n",
              "      background-color: #3B4455;\n",
              "      fill: #D2E3FC;\n",
              "    }\n",
              "\n",
              "    [theme=dark] .colab-df-convert:hover {\n",
              "      background-color: #434B5C;\n",
              "      box-shadow: 0px 1px 3px 1px rgba(0, 0, 0, 0.15);\n",
              "      filter: drop-shadow(0px 1px 2px rgba(0, 0, 0, 0.3));\n",
              "      fill: #FFFFFF;\n",
              "    }\n",
              "  </style>\n",
              "\n",
              "      <script>\n",
              "        const buttonEl =\n",
              "          document.querySelector('#df-60d771e3-f14c-425c-8949-13b28b3cc777 button.colab-df-convert');\n",
              "        buttonEl.style.display =\n",
              "          google.colab.kernel.accessAllowed ? 'block' : 'none';\n",
              "\n",
              "        async function convertToInteractive(key) {\n",
              "          const element = document.querySelector('#df-60d771e3-f14c-425c-8949-13b28b3cc777');\n",
              "          const dataTable =\n",
              "            await google.colab.kernel.invokeFunction('convertToInteractive',\n",
              "                                                     [key], {});\n",
              "          if (!dataTable) return;\n",
              "\n",
              "          const docLinkHtml = 'Like what you see? Visit the ' +\n",
              "            '<a target=\"_blank\" href=https://colab.research.google.com/notebooks/data_table.ipynb>data table notebook</a>'\n",
              "            + ' to learn more about interactive tables.';\n",
              "          element.innerHTML = '';\n",
              "          dataTable['output_type'] = 'display_data';\n",
              "          await google.colab.output.renderOutput(dataTable, element);\n",
              "          const docLink = document.createElement('div');\n",
              "          docLink.innerHTML = docLinkHtml;\n",
              "          element.appendChild(docLink);\n",
              "        }\n",
              "      </script>\n",
              "    </div>\n",
              "  </div>\n",
              "  "
            ]
          },
          "metadata": {},
          "execution_count": 14
        }
      ]
    },
    {
      "cell_type": "code",
      "source": [
        "#calculate the average rating of each person\n",
        "average = airlines_2.iloc[0:,[3,4,5,6,7,8,9,10]].mean(axis = 1)"
      ],
      "metadata": {
        "id": "a9TS3YLuZzJN"
      },
      "execution_count": 15,
      "outputs": []
    },
    {
      "cell_type": "code",
      "source": [
        "#insert the value of average to dataframe\n",
        "airlines_2.insert(11,'average',average)\n",
        "airlines_2.head()"
      ],
      "metadata": {
        "colab": {
          "base_uri": "https://localhost:8080/",
          "height": 418
        },
        "id": "qGBgCfVaiL8K",
        "outputId": "8fecac57-b6de-4017-b739-19dadbf76556"
      },
      "execution_count": 16,
      "outputs": [
        {
          "output_type": "execute_result",
          "data": {
            "text/plain": [
              "   number Sex    Age  Seat comfort  Customer service  Cleanliness  \\\n",
              "0       1   M  35-49             3                 4            4   \n",
              "1       2   M  50-64             3                 4            4   \n",
              "2       3   F  35-49             4                 4            4   \n",
              "3       4   M  35-49             3                 1            3   \n",
              "4       5   F  50-64             2                 3            3   \n",
              "\n",
              "   Food and Beverage  Legroom  In-flight entertainment  Value for money  \\\n",
              "0                  2        1                        3                4   \n",
              "1                  3        3                        3                4   \n",
              "2                  4        4                        5                4   \n",
              "3                  2        3                        3                3   \n",
              "4                  3        3                        3                2   \n",
              "\n",
              "   Check-in and Boarding  average           Area        Cabin  \\\n",
              "0                      4    3.125  International      Economy   \n",
              "1                      5    3.625       Domestic      Economy   \n",
              "2                      4    4.125         Mexico      Economy   \n",
              "3                      1    2.375         Mexico  First Class   \n",
              "4                      3    2.750       Domestic      Economy   \n",
              "\n",
              "                           Route  \n",
              "0                  Miami - Quito  \n",
              "1  Colorado Springs - Fort Myers  \n",
              "2                Dallas - Cancun  \n",
              "3               Seattle - Cancun  \n",
              "4           Baltimore - Sarasota  "
            ],
            "text/html": [
              "\n",
              "  <div id=\"df-f97a92c0-36c3-40fa-9aa3-8bd474959a9e\">\n",
              "    <div class=\"colab-df-container\">\n",
              "      <div>\n",
              "<style scoped>\n",
              "    .dataframe tbody tr th:only-of-type {\n",
              "        vertical-align: middle;\n",
              "    }\n",
              "\n",
              "    .dataframe tbody tr th {\n",
              "        vertical-align: top;\n",
              "    }\n",
              "\n",
              "    .dataframe thead th {\n",
              "        text-align: right;\n",
              "    }\n",
              "</style>\n",
              "<table border=\"1\" class=\"dataframe\">\n",
              "  <thead>\n",
              "    <tr style=\"text-align: right;\">\n",
              "      <th></th>\n",
              "      <th>number</th>\n",
              "      <th>Sex</th>\n",
              "      <th>Age</th>\n",
              "      <th>Seat comfort</th>\n",
              "      <th>Customer service</th>\n",
              "      <th>Cleanliness</th>\n",
              "      <th>Food and Beverage</th>\n",
              "      <th>Legroom</th>\n",
              "      <th>In-flight entertainment</th>\n",
              "      <th>Value for money</th>\n",
              "      <th>Check-in and Boarding</th>\n",
              "      <th>average</th>\n",
              "      <th>Area</th>\n",
              "      <th>Cabin</th>\n",
              "      <th>Route</th>\n",
              "    </tr>\n",
              "  </thead>\n",
              "  <tbody>\n",
              "    <tr>\n",
              "      <th>0</th>\n",
              "      <td>1</td>\n",
              "      <td>M</td>\n",
              "      <td>35-49</td>\n",
              "      <td>3</td>\n",
              "      <td>4</td>\n",
              "      <td>4</td>\n",
              "      <td>2</td>\n",
              "      <td>1</td>\n",
              "      <td>3</td>\n",
              "      <td>4</td>\n",
              "      <td>4</td>\n",
              "      <td>3.125</td>\n",
              "      <td>International</td>\n",
              "      <td>Economy</td>\n",
              "      <td>Miami - Quito</td>\n",
              "    </tr>\n",
              "    <tr>\n",
              "      <th>1</th>\n",
              "      <td>2</td>\n",
              "      <td>M</td>\n",
              "      <td>50-64</td>\n",
              "      <td>3</td>\n",
              "      <td>4</td>\n",
              "      <td>4</td>\n",
              "      <td>3</td>\n",
              "      <td>3</td>\n",
              "      <td>3</td>\n",
              "      <td>4</td>\n",
              "      <td>5</td>\n",
              "      <td>3.625</td>\n",
              "      <td>Domestic</td>\n",
              "      <td>Economy</td>\n",
              "      <td>Colorado Springs - Fort Myers</td>\n",
              "    </tr>\n",
              "    <tr>\n",
              "      <th>2</th>\n",
              "      <td>3</td>\n",
              "      <td>F</td>\n",
              "      <td>35-49</td>\n",
              "      <td>4</td>\n",
              "      <td>4</td>\n",
              "      <td>4</td>\n",
              "      <td>4</td>\n",
              "      <td>4</td>\n",
              "      <td>5</td>\n",
              "      <td>4</td>\n",
              "      <td>4</td>\n",
              "      <td>4.125</td>\n",
              "      <td>Mexico</td>\n",
              "      <td>Economy</td>\n",
              "      <td>Dallas - Cancun</td>\n",
              "    </tr>\n",
              "    <tr>\n",
              "      <th>3</th>\n",
              "      <td>4</td>\n",
              "      <td>M</td>\n",
              "      <td>35-49</td>\n",
              "      <td>3</td>\n",
              "      <td>1</td>\n",
              "      <td>3</td>\n",
              "      <td>2</td>\n",
              "      <td>3</td>\n",
              "      <td>3</td>\n",
              "      <td>3</td>\n",
              "      <td>1</td>\n",
              "      <td>2.375</td>\n",
              "      <td>Mexico</td>\n",
              "      <td>First Class</td>\n",
              "      <td>Seattle - Cancun</td>\n",
              "    </tr>\n",
              "    <tr>\n",
              "      <th>4</th>\n",
              "      <td>5</td>\n",
              "      <td>F</td>\n",
              "      <td>50-64</td>\n",
              "      <td>2</td>\n",
              "      <td>3</td>\n",
              "      <td>3</td>\n",
              "      <td>3</td>\n",
              "      <td>3</td>\n",
              "      <td>3</td>\n",
              "      <td>2</td>\n",
              "      <td>3</td>\n",
              "      <td>2.750</td>\n",
              "      <td>Domestic</td>\n",
              "      <td>Economy</td>\n",
              "      <td>Baltimore - Sarasota</td>\n",
              "    </tr>\n",
              "  </tbody>\n",
              "</table>\n",
              "</div>\n",
              "      <button class=\"colab-df-convert\" onclick=\"convertToInteractive('df-f97a92c0-36c3-40fa-9aa3-8bd474959a9e')\"\n",
              "              title=\"Convert this dataframe to an interactive table.\"\n",
              "              style=\"display:none;\">\n",
              "        \n",
              "  <svg xmlns=\"http://www.w3.org/2000/svg\" height=\"24px\"viewBox=\"0 0 24 24\"\n",
              "       width=\"24px\">\n",
              "    <path d=\"M0 0h24v24H0V0z\" fill=\"none\"/>\n",
              "    <path d=\"M18.56 5.44l.94 2.06.94-2.06 2.06-.94-2.06-.94-.94-2.06-.94 2.06-2.06.94zm-11 1L8.5 8.5l.94-2.06 2.06-.94-2.06-.94L8.5 2.5l-.94 2.06-2.06.94zm10 10l.94 2.06.94-2.06 2.06-.94-2.06-.94-.94-2.06-.94 2.06-2.06.94z\"/><path d=\"M17.41 7.96l-1.37-1.37c-.4-.4-.92-.59-1.43-.59-.52 0-1.04.2-1.43.59L10.3 9.45l-7.72 7.72c-.78.78-.78 2.05 0 2.83L4 21.41c.39.39.9.59 1.41.59.51 0 1.02-.2 1.41-.59l7.78-7.78 2.81-2.81c.8-.78.8-2.07 0-2.86zM5.41 20L4 18.59l7.72-7.72 1.47 1.35L5.41 20z\"/>\n",
              "  </svg>\n",
              "      </button>\n",
              "      \n",
              "  <style>\n",
              "    .colab-df-container {\n",
              "      display:flex;\n",
              "      flex-wrap:wrap;\n",
              "      gap: 12px;\n",
              "    }\n",
              "\n",
              "    .colab-df-convert {\n",
              "      background-color: #E8F0FE;\n",
              "      border: none;\n",
              "      border-radius: 50%;\n",
              "      cursor: pointer;\n",
              "      display: none;\n",
              "      fill: #1967D2;\n",
              "      height: 32px;\n",
              "      padding: 0 0 0 0;\n",
              "      width: 32px;\n",
              "    }\n",
              "\n",
              "    .colab-df-convert:hover {\n",
              "      background-color: #E2EBFA;\n",
              "      box-shadow: 0px 1px 2px rgba(60, 64, 67, 0.3), 0px 1px 3px 1px rgba(60, 64, 67, 0.15);\n",
              "      fill: #174EA6;\n",
              "    }\n",
              "\n",
              "    [theme=dark] .colab-df-convert {\n",
              "      background-color: #3B4455;\n",
              "      fill: #D2E3FC;\n",
              "    }\n",
              "\n",
              "    [theme=dark] .colab-df-convert:hover {\n",
              "      background-color: #434B5C;\n",
              "      box-shadow: 0px 1px 3px 1px rgba(0, 0, 0, 0.15);\n",
              "      filter: drop-shadow(0px 1px 2px rgba(0, 0, 0, 0.3));\n",
              "      fill: #FFFFFF;\n",
              "    }\n",
              "  </style>\n",
              "\n",
              "      <script>\n",
              "        const buttonEl =\n",
              "          document.querySelector('#df-f97a92c0-36c3-40fa-9aa3-8bd474959a9e button.colab-df-convert');\n",
              "        buttonEl.style.display =\n",
              "          google.colab.kernel.accessAllowed ? 'block' : 'none';\n",
              "\n",
              "        async function convertToInteractive(key) {\n",
              "          const element = document.querySelector('#df-f97a92c0-36c3-40fa-9aa3-8bd474959a9e');\n",
              "          const dataTable =\n",
              "            await google.colab.kernel.invokeFunction('convertToInteractive',\n",
              "                                                     [key], {});\n",
              "          if (!dataTable) return;\n",
              "\n",
              "          const docLinkHtml = 'Like what you see? Visit the ' +\n",
              "            '<a target=\"_blank\" href=https://colab.research.google.com/notebooks/data_table.ipynb>data table notebook</a>'\n",
              "            + ' to learn more about interactive tables.';\n",
              "          element.innerHTML = '';\n",
              "          dataTable['output_type'] = 'display_data';\n",
              "          await google.colab.output.renderOutput(dataTable, element);\n",
              "          const docLink = document.createElement('div');\n",
              "          docLink.innerHTML = docLinkHtml;\n",
              "          element.appendChild(docLink);\n",
              "        }\n",
              "      </script>\n",
              "    </div>\n",
              "  </div>\n",
              "  "
            ]
          },
          "metadata": {},
          "execution_count": 16
        }
      ]
    },
    {
      "cell_type": "markdown",
      "source": [
        "## **the differences between male and female**"
      ],
      "metadata": {
        "id": "UrfgkNCOkB22"
      }
    },
    {
      "cell_type": "code",
      "source": [
        "sns.countplot(x='Sex',data=airlines_2)\n",
        "plt.title('the numbers of male and female')\n",
        "plt.show()"
      ],
      "metadata": {
        "colab": {
          "base_uri": "https://localhost:8080/",
          "height": 295
        },
        "id": "dzViHcahjhiw",
        "outputId": "f90b18ae-8d69-435d-c6de-2140edeb35c6"
      },
      "execution_count": 46,
      "outputs": [
        {
          "output_type": "display_data",
          "data": {
            "text/plain": [
              "<Figure size 432x288 with 1 Axes>"
            ],
            "image/png": "[encoded data removed]"
          },
          "metadata": {
            "needs_background": "light"
          }
        }
      ]
    },
    {
      "cell_type": "code",
      "source": [
        "result1 = (airlines_2.groupby(['Sex']).mean().T).iloc[1:,]\n",
        "male_value = result1.iloc[0:,1]\n",
        "result2=result1.drop(['M'],axis=1)\n",
        "result2.insert(0,'M',male_value)\n",
        "result2"
      ],
      "metadata": {
        "colab": {
          "base_uri": "https://localhost:8080/",
          "height": 328
        },
        "id": "8p2oCluYm3xK",
        "outputId": "5f3273c6-b4f7-4ab5-d17e-a2164843c11e"
      },
      "execution_count": 26,
      "outputs": [
        {
          "output_type": "execute_result",
          "data": {
            "text/plain": [
              "Sex                             M         F\n",
              "Seat comfort             3.442199  3.304416\n",
              "Customer service         3.687146  3.487382\n",
              "Cleanliness              3.875505  3.640379\n",
              "Food and Beverage        3.141471  3.132492\n",
              "Legroom                  3.479386  3.317035\n",
              "In-flight entertainment  3.250606  3.094637\n",
              "Value for money          3.357316  3.164038\n",
              "Check-in and Boarding    3.738076  3.574132\n",
              "average                  3.496463  3.339314"
            ],
            "text/html": [
              "\n",
              "  <div id=\"df-7dc723ae-cd1a-460b-84b1-060d23ee0e08\">\n",
              "    <div class=\"colab-df-container\">\n",
              "      <div>\n",
              "<style scoped>\n",
              "    .dataframe tbody tr th:only-of-type {\n",
              "        vertical-align: middle;\n",
              "    }\n",
              "\n",
              "    .dataframe tbody tr th {\n",
              "        vertical-align: top;\n",
              "    }\n",
              "\n",
              "    .dataframe thead th {\n",
              "        text-align: right;\n",
              "    }\n",
              "</style>\n",
              "<table border=\"1\" class=\"dataframe\">\n",
              "  <thead>\n",
              "    <tr style=\"text-align: right;\">\n",
              "      <th>Sex</th>\n",
              "      <th>M</th>\n",
              "      <th>F</th>\n",
              "    </tr>\n",
              "  </thead>\n",
              "  <tbody>\n",
              "    <tr>\n",
              "      <th>Seat comfort</th>\n",
              "      <td>3.442199</td>\n",
              "      <td>3.304416</td>\n",
              "    </tr>\n",
              "    <tr>\n",
              "      <th>Customer service</th>\n",
              "      <td>3.687146</td>\n",
              "      <td>3.487382</td>\n",
              "    </tr>\n",
              "    <tr>\n",
              "      <th>Cleanliness</th>\n",
              "      <td>3.875505</td>\n",
              "      <td>3.640379</td>\n",
              "    </tr>\n",
              "    <tr>\n",
              "      <th>Food and Beverage</th>\n",
              "      <td>3.141471</td>\n",
              "      <td>3.132492</td>\n",
              "    </tr>\n",
              "    <tr>\n",
              "      <th>Legroom</th>\n",
              "      <td>3.479386</td>\n",
              "      <td>3.317035</td>\n",
              "    </tr>\n",
              "    <tr>\n",
              "      <th>In-flight entertainment</th>\n",
              "      <td>3.250606</td>\n",
              "      <td>3.094637</td>\n",
              "    </tr>\n",
              "    <tr>\n",
              "      <th>Value for money</th>\n",
              "      <td>3.357316</td>\n",
              "      <td>3.164038</td>\n",
              "    </tr>\n",
              "    <tr>\n",
              "      <th>Check-in and Boarding</th>\n",
              "      <td>3.738076</td>\n",
              "      <td>3.574132</td>\n",
              "    </tr>\n",
              "    <tr>\n",
              "      <th>average</th>\n",
              "      <td>3.496463</td>\n",
              "      <td>3.339314</td>\n",
              "    </tr>\n",
              "  </tbody>\n",
              "</table>\n",
              "</div>\n",
              "      <button class=\"colab-df-convert\" onclick=\"convertToInteractive('df-7dc723ae-cd1a-460b-84b1-060d23ee0e08')\"\n",
              "              title=\"Convert this dataframe to an interactive table.\"\n",
              "              style=\"display:none;\">\n",
              "        \n",
              "  <svg xmlns=\"http://www.w3.org/2000/svg\" height=\"24px\"viewBox=\"0 0 24 24\"\n",
              "       width=\"24px\">\n",
              "    <path d=\"M0 0h24v24H0V0z\" fill=\"none\"/>\n",
              "    <path d=\"M18.56 5.44l.94 2.06.94-2.06 2.06-.94-2.06-.94-.94-2.06-.94 2.06-2.06.94zm-11 1L8.5 8.5l.94-2.06 2.06-.94-2.06-.94L8.5 2.5l-.94 2.06-2.06.94zm10 10l.94 2.06.94-2.06 2.06-.94-2.06-.94-.94-2.06-.94 2.06-2.06.94z\"/><path d=\"M17.41 7.96l-1.37-1.37c-.4-.4-.92-.59-1.43-.59-.52 0-1.04.2-1.43.59L10.3 9.45l-7.72 7.72c-.78.78-.78 2.05 0 2.83L4 21.41c.39.39.9.59 1.41.59.51 0 1.02-.2 1.41-.59l7.78-7.78 2.81-2.81c.8-.78.8-2.07 0-2.86zM5.41 20L4 18.59l7.72-7.72 1.47 1.35L5.41 20z\"/>\n",
              "  </svg>\n",
              "      </button>\n",
              "      \n",
              "  <style>\n",
              "    .colab-df-container {\n",
              "      display:flex;\n",
              "      flex-wrap:wrap;\n",
              "      gap: 12px;\n",
              "    }\n",
              "\n",
              "    .colab-df-convert {\n",
              "      background-color: #E8F0FE;\n",
              "      border: none;\n",
              "      border-radius: 50%;\n",
              "      cursor: pointer;\n",
              "      display: none;\n",
              "      fill: #1967D2;\n",
              "      height: 32px;\n",
              "      padding: 0 0 0 0;\n",
              "      width: 32px;\n",
              "    }\n",
              "\n",
              "    .colab-df-convert:hover {\n",
              "      background-color: #E2EBFA;\n",
              "      box-shadow: 0px 1px 2px rgba(60, 64, 67, 0.3), 0px 1px 3px 1px rgba(60, 64, 67, 0.15);\n",
              "      fill: #174EA6;\n",
              "    }\n",
              "\n",
              "    [theme=dark] .colab-df-convert {\n",
              "      background-color: #3B4455;\n",
              "      fill: #D2E3FC;\n",
              "    }\n",
              "\n",
              "    [theme=dark] .colab-df-convert:hover {\n",
              "      background-color: #434B5C;\n",
              "      box-shadow: 0px 1px 3px 1px rgba(0, 0, 0, 0.15);\n",
              "      filter: drop-shadow(0px 1px 2px rgba(0, 0, 0, 0.3));\n",
              "      fill: #FFFFFF;\n",
              "    }\n",
              "  </style>\n",
              "\n",
              "      <script>\n",
              "        const buttonEl =\n",
              "          document.querySelector('#df-7dc723ae-cd1a-460b-84b1-060d23ee0e08 button.colab-df-convert');\n",
              "        buttonEl.style.display =\n",
              "          google.colab.kernel.accessAllowed ? 'block' : 'none';\n",
              "\n",
              "        async function convertToInteractive(key) {\n",
              "          const element = document.querySelector('#df-7dc723ae-cd1a-460b-84b1-060d23ee0e08');\n",
              "          const dataTable =\n",
              "            await google.colab.kernel.invokeFunction('convertToInteractive',\n",
              "                                                     [key], {});\n",
              "          if (!dataTable) return;\n",
              "\n",
              "          const docLinkHtml = 'Like what you see? Visit the ' +\n",
              "            '<a target=\"_blank\" href=https://colab.research.google.com/notebooks/data_table.ipynb>data table notebook</a>'\n",
              "            + ' to learn more about interactive tables.';\n",
              "          element.innerHTML = '';\n",
              "          dataTable['output_type'] = 'display_data';\n",
              "          await google.colab.output.renderOutput(dataTable, element);\n",
              "          const docLink = document.createElement('div');\n",
              "          docLink.innerHTML = docLinkHtml;\n",
              "          element.appendChild(docLink);\n",
              "        }\n",
              "      </script>\n",
              "    </div>\n",
              "  </div>\n",
              "  "
            ]
          },
          "metadata": {},
          "execution_count": 26
        }
      ]
    },
    {
      "cell_type": "code",
      "source": [
        "g = sns.FacetGrid(airlines_2, col='Sex')\n",
        "g = g.map(plt.hist, 'average')"
      ],
      "metadata": {
        "colab": {
          "base_uri": "https://localhost:8080/",
          "height": 225
        },
        "id": "hNkmaXoZq_Wh",
        "outputId": "86f6d3a0-eade-4493-f46b-2fe7a08df909"
      },
      "execution_count": 58,
      "outputs": [
        {
          "output_type": "display_data",
          "data": {
            "text/plain": [
              "<Figure size 432x216 with 2 Axes>"
            ],
            "image/png": "[encoded data removed]"
          },
          "metadata": {
            "needs_background": "light"
          }
        }
      ]
    },
    {
      "cell_type": "code",
      "source": [
        "result2.plot(kind = 'bar',title = 'ratings group by sex',ylabel = 'rating')\n",
        "plt.show()"
      ],
      "metadata": {
        "colab": {
          "base_uri": "https://localhost:8080/",
          "height": 385
        },
        "id": "RvHDE4SEqmkI",
        "outputId": "913d6b8e-a248-4f32-f9d8-9a8bcc1eaa00"
      },
      "execution_count": 42,
      "outputs": [
        {
          "output_type": "display_data",
          "data": {
            "text/plain": [
              "<Figure size 432x288 with 1 Axes>"
            ],
            "image/png": "[encoded data removed]"
          },
          "metadata": {
            "needs_background": "light"
          }
        }
      ]
    },
    {
      "cell_type": "markdown",
      "source": [
        "## **the differences between different cabins**"
      ],
      "metadata": {
        "id": "pVlbPWUimTxC"
      }
    },
    {
      "cell_type": "code",
      "source": [
        "sns.displot(airlines_2['Cabin'], color=\"skyblue\", bins=20)\n",
        "plt.title('the number of different cabin')\n",
        "plt.show()"
      ],
      "metadata": {
        "colab": {
          "base_uri": "https://localhost:8080/",
          "height": 385
        },
        "id": "VPKnjEqYQx2A",
        "outputId": "0565e1fa-f7df-4192-cb9c-b60664a7828a"
      },
      "execution_count": 47,
      "outputs": [
        {
          "output_type": "display_data",
          "data": {
            "text/plain": [
              "<Figure size 360x360 with 1 Axes>"
            ],
            "image/png": "[encoded data removed]"
          },
          "metadata": {
            "needs_background": "light"
          }
        }
      ]
    },
    {
      "cell_type": "code",
      "source": [
        "g1 = sns.FacetGrid(airlines_2, col='Cabin')\n",
        "g1 = g1.map(plt.hist, 'average')\n"
      ],
      "metadata": {
        "colab": {
          "base_uri": "https://localhost:8080/",
          "height": 225
        },
        "id": "XrAlUdO0sEJw",
        "outputId": "a1bf2721-2c94-4dd6-a52e-5ec3e81734b1"
      },
      "execution_count": 63,
      "outputs": [
        {
          "output_type": "display_data",
          "data": {
            "text/plain": [
              "<Figure size 648x216 with 3 Axes>"
            ],
            "image/png": "[encoded data removed]"
          },
          "metadata": {
            "needs_background": "light"
          }
        }
      ]
    },
    {
      "cell_type": "code",
      "source": [
        "sns.boxplot(x=\"Cabin\", y=\"average\", data=airlines_2, palette='rainbow')\n",
        "plt.title('the boxplot of average ratings of different classes')\n",
        "plt.show()"
      ],
      "metadata": {
        "colab": {
          "base_uri": "https://localhost:8080/",
          "height": 295
        },
        "id": "hMGL8Arylonz",
        "outputId": "1ce3ce71-514e-4094-8b9c-6dbf82d24d15"
      },
      "execution_count": 64,
      "outputs": [
        {
          "output_type": "display_data",
          "data": {
            "text/plain": [
              "<Figure size 432x288 with 1 Axes>"
            ],
            "image/png": "[encoded data removed]"
          },
          "metadata": {
            "needs_background": "light"
          }
        }
      ]
    }
  ]
}